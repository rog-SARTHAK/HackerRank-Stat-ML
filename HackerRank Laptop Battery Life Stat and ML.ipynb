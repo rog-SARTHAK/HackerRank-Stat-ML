{
 "cells": [
  {
   "cell_type": "markdown",
   "id": "65689114",
   "metadata": {},
   "source": [
    "Fred is a very predictable man. For instance, when he uses his laptop, all he does is watch TV shows. He keeps on watching TV shows until his battery dies. Also, he is a very meticulous man, i.e. he pays great attention to minute details. He has been keeping logs of every time he charged his laptop, which includes how long he charged his laptop for and after that how long was he able to watch the TV. Now, Fred wants to use this log to predict how long will he be able to watch TV for when he starts so that he can plan his activities after watching his TV shows accordingly.\n",
    "\n",
    "Challenge\n",
    "\n",
    "You are given access to Fred’s laptop charging log by reading from the file “trainingdata.txt”. The training data file will consist of 100 lines, each with 2 comma-separated numbers.\n",
    "\n",
    "The first number denotes the amount of time the laptop was charged.\n",
    "The second number denotes the amount of time the battery lasted.\n",
    "The training data file can be downloaded here (this will be the same training data used when your program is run). The input for each of the test cases will consist of exactly 1 number rounded to 2 decimal places. For each input, output 1 number: the amount of time you predict his battery will last.\n",
    "\n",
    "Sample Input\n",
    "\n",
    "1.50\n",
    "\n",
    "Sample Output\n",
    "\n",
    "3.00\n",
    "\n",
    "Scoring\n",
    "\n",
    "Your score will be 10-X, where X is the sum of the distances you are from expected answer of each test case. For instance if there are 2 test cases with expected answer 4 and you print 3 for the first one and 6 for the second one your score will be 10-(1+2) = 7."
   ]
  },
  {
   "cell_type": "code",
   "execution_count": 1,
   "id": "1f8ee878",
   "metadata": {},
   "outputs": [],
   "source": [
    "#libraries\n",
    "\n",
    "import pandas as pd\n",
    "import numpy as np\n",
    "from sklearn import linear_model\n",
    "\n",
    "\n",
    "df = pd.read_csv(\"C:/Users/ASUS/OneDrive/Desktop/DatasetR/trainingdata_hackerrank.txt\", header=None) #No column name"
   ]
  },
  {
   "cell_type": "code",
   "execution_count": 2,
   "id": "9b1c0d6e",
   "metadata": {},
   "outputs": [
    {
     "data": {
      "text/html": [
       "<div>\n",
       "<style scoped>\n",
       "    .dataframe tbody tr th:only-of-type {\n",
       "        vertical-align: middle;\n",
       "    }\n",
       "\n",
       "    .dataframe tbody tr th {\n",
       "        vertical-align: top;\n",
       "    }\n",
       "\n",
       "    .dataframe thead th {\n",
       "        text-align: right;\n",
       "    }\n",
       "</style>\n",
       "<table border=\"1\" class=\"dataframe\">\n",
       "  <thead>\n",
       "    <tr style=\"text-align: right;\">\n",
       "      <th></th>\n",
       "      <th>0</th>\n",
       "      <th>1</th>\n",
       "    </tr>\n",
       "  </thead>\n",
       "  <tbody>\n",
       "    <tr>\n",
       "      <th>0</th>\n",
       "      <td>2.81</td>\n",
       "      <td>5.62</td>\n",
       "    </tr>\n",
       "    <tr>\n",
       "      <th>1</th>\n",
       "      <td>7.14</td>\n",
       "      <td>8.00</td>\n",
       "    </tr>\n",
       "    <tr>\n",
       "      <th>2</th>\n",
       "      <td>2.72</td>\n",
       "      <td>5.44</td>\n",
       "    </tr>\n",
       "    <tr>\n",
       "      <th>3</th>\n",
       "      <td>3.87</td>\n",
       "      <td>7.74</td>\n",
       "    </tr>\n",
       "    <tr>\n",
       "      <th>4</th>\n",
       "      <td>1.90</td>\n",
       "      <td>3.80</td>\n",
       "    </tr>\n",
       "  </tbody>\n",
       "</table>\n",
       "</div>"
      ],
      "text/plain": [
       "      0     1\n",
       "0  2.81  5.62\n",
       "1  7.14  8.00\n",
       "2  2.72  5.44\n",
       "3  3.87  7.74\n",
       "4  1.90  3.80"
      ]
     },
     "execution_count": 2,
     "metadata": {},
     "output_type": "execute_result"
    }
   ],
   "source": [
    "df.head()"
   ]
  },
  {
   "cell_type": "code",
   "execution_count": 3,
   "id": "1a0f8f90",
   "metadata": {},
   "outputs": [
    {
     "name": "stdout",
     "output_type": "stream",
     "text": [
      "0    2.72\n",
      "1    5.44\n",
      "Name: 2, dtype: float64\n"
     ]
    }
   ],
   "source": [
    "print(df.iloc[2]) #iloc[] function extracts a specific row observation from dataframe"
   ]
  },
  {
   "cell_type": "code",
   "execution_count": 4,
   "id": "bdafe4f4",
   "metadata": {},
   "outputs": [
    {
     "name": "stdout",
     "output_type": "stream",
     "text": [
      "      0     1\n",
      "1  7.14  8.00\n",
      "2  2.72  5.44\n"
     ]
    }
   ],
   "source": [
    "print(df.iloc[1:3]) #syntax returns observations 1 to 3 excluding 3"
   ]
  },
  {
   "cell_type": "markdown",
   "id": "58f53b74",
   "metadata": {},
   "source": [
    "Access specific columns with iloc()\n",
    "dataframe.iloc[:,start_col:end_col]"
   ]
  },
  {
   "cell_type": "code",
   "execution_count": 5,
   "id": "985ca5e0",
   "metadata": {},
   "outputs": [
    {
     "name": "stdout",
     "output_type": "stream",
     "text": [
      "<class 'pandas.core.frame.DataFrame'>\n",
      "RangeIndex: 100 entries, 0 to 99\n",
      "Data columns (total 2 columns):\n",
      " #   Column  Non-Null Count  Dtype  \n",
      "---  ------  --------------  -----  \n",
      " 0   0       100 non-null    float64\n",
      " 1   1       100 non-null    float64\n",
      "dtypes: float64(2)\n",
      "memory usage: 1.7 KB\n"
     ]
    }
   ],
   "source": [
    "df.info()"
   ]
  },
  {
   "cell_type": "code",
   "execution_count": 6,
   "id": "2402156a",
   "metadata": {},
   "outputs": [
    {
     "data": {
      "text/plain": [
       "<AxesSubplot:xlabel='0', ylabel='1'>"
      ]
     },
     "execution_count": 6,
     "metadata": {},
     "output_type": "execute_result"
    },
    {
     "data": {
      "image/png": "[encoded data removed]",
      "text/plain": [
       "<Figure size 1080x360 with 1 Axes>"
      ]
     },
     "metadata": {
      "needs_background": "light"
     },
     "output_type": "display_data"
    }
   ],
   "source": [
    "df.plot(figsize=(15,5), kind='scatter',x=0, y=1)"
   ]
  },
  {
   "cell_type": "markdown",
   "id": "e5dac4f2",
   "metadata": {},
   "source": [
    "x axis : Amt of time laptop was charged\n",
    "y axis : Amt of time laptop battery lasted"
   ]
  },
  {
   "cell_type": "markdown",
   "id": "4081942f",
   "metadata": {},
   "source": [
    "Observation: Battery life is 8 hours max when charged for 4 or more hours"
   ]
  },
  {
   "cell_type": "code",
   "execution_count": 7,
   "id": "0587af90",
   "metadata": {},
   "outputs": [
    {
     "data": {
      "text/html": [
       "<div>\n",
       "<style scoped>\n",
       "    .dataframe tbody tr th:only-of-type {\n",
       "        vertical-align: middle;\n",
       "    }\n",
       "\n",
       "    .dataframe tbody tr th {\n",
       "        vertical-align: top;\n",
       "    }\n",
       "\n",
       "    .dataframe thead th {\n",
       "        text-align: right;\n",
       "    }\n",
       "</style>\n",
       "<table border=\"1\" class=\"dataframe\">\n",
       "  <thead>\n",
       "    <tr style=\"text-align: right;\">\n",
       "      <th></th>\n",
       "      <th>0</th>\n",
       "      <th>1</th>\n",
       "    </tr>\n",
       "  </thead>\n",
       "  <tbody>\n",
       "    <tr>\n",
       "      <th>0</th>\n",
       "      <td>2.81</td>\n",
       "      <td>5.62</td>\n",
       "    </tr>\n",
       "    <tr>\n",
       "      <th>2</th>\n",
       "      <td>2.72</td>\n",
       "      <td>5.44</td>\n",
       "    </tr>\n",
       "    <tr>\n",
       "      <th>3</th>\n",
       "      <td>3.87</td>\n",
       "      <td>7.74</td>\n",
       "    </tr>\n",
       "    <tr>\n",
       "      <th>4</th>\n",
       "      <td>1.90</td>\n",
       "      <td>3.80</td>\n",
       "    </tr>\n",
       "    <tr>\n",
       "      <th>13</th>\n",
       "      <td>0.14</td>\n",
       "      <td>0.28</td>\n",
       "    </tr>\n",
       "    <tr>\n",
       "      <th>14</th>\n",
       "      <td>2.00</td>\n",
       "      <td>4.00</td>\n",
       "    </tr>\n",
       "    <tr>\n",
       "      <th>16</th>\n",
       "      <td>0.80</td>\n",
       "      <td>1.60</td>\n",
       "    </tr>\n",
       "    <tr>\n",
       "      <th>19</th>\n",
       "      <td>0.00</td>\n",
       "      <td>0.00</td>\n",
       "    </tr>\n",
       "    <tr>\n",
       "      <th>20</th>\n",
       "      <td>1.78</td>\n",
       "      <td>3.56</td>\n",
       "    </tr>\n",
       "    <tr>\n",
       "      <th>21</th>\n",
       "      <td>3.45</td>\n",
       "      <td>6.90</td>\n",
       "    </tr>\n",
       "  </tbody>\n",
       "</table>\n",
       "</div>"
      ],
      "text/plain": [
       "       0     1\n",
       "0   2.81  5.62\n",
       "2   2.72  5.44\n",
       "3   3.87  7.74\n",
       "4   1.90  3.80\n",
       "13  0.14  0.28\n",
       "14  2.00  4.00\n",
       "16  0.80  1.60\n",
       "19  0.00  0.00\n",
       "20  1.78  3.56\n",
       "21  3.45  6.90"
      ]
     },
     "execution_count": 7,
     "metadata": {},
     "output_type": "execute_result"
    }
   ],
   "source": [
    "df2 = df[df.iloc[:,1] < 8]  #Filtered data by removing battery lasting greater than 8\n",
    "df2.head(10)"
   ]
  },
  {
   "cell_type": "code",
   "execution_count": 8,
   "id": "62d9775a",
   "metadata": {},
   "outputs": [],
   "source": [
    "#df2.insert(0, len(df2.columns), 0)\n",
    "#df2"
   ]
  },
  {
   "cell_type": "code",
   "execution_count": 9,
   "id": "60ebc903",
   "metadata": {},
   "outputs": [],
   "source": [
    "# Separe variables dependet and independent\n",
    "X = df2.iloc[:,0:1].to_numpy()\n",
    "Y = df2.iloc[:,1].to_numpy()"
   ]
  },
  {
   "cell_type": "code",
   "execution_count": 10,
   "id": "5bf80bbc",
   "metadata": {},
   "outputs": [
    {
     "data": {
      "text/plain": [
       "array([[2.81],\n",
       "       [2.72],\n",
       "       [3.87],\n",
       "       [1.9 ],\n",
       "       [0.14],\n",
       "       [2.  ],\n",
       "       [0.8 ],\n",
       "       [0.  ],\n",
       "       [1.78],\n",
       "       [3.45],\n",
       "       [3.53],\n",
       "       [1.76],\n",
       "       [0.02],\n",
       "       [2.06],\n",
       "       [2.24],\n",
       "       [1.11],\n",
       "       [2.33],\n",
       "       [1.83],\n",
       "       [1.14],\n",
       "       [1.75],\n",
       "       [2.16],\n",
       "       [1.26],\n",
       "       [3.97],\n",
       "       [1.98],\n",
       "       [1.66],\n",
       "       [2.04],\n",
       "       [3.77],\n",
       "       [1.83],\n",
       "       [2.15],\n",
       "       [1.58],\n",
       "       [1.27],\n",
       "       [3.47],\n",
       "       [1.85],\n",
       "       [0.13],\n",
       "       [1.44],\n",
       "       [3.42],\n",
       "       [1.89],\n",
       "       [1.98],\n",
       "       [0.39],\n",
       "       [1.99],\n",
       "       [1.58],\n",
       "       [3.99],\n",
       "       [2.58],\n",
       "       [3.97],\n",
       "       [3.65],\n",
       "       [1.1 ]])"
      ]
     },
     "execution_count": 10,
     "metadata": {},
     "output_type": "execute_result"
    }
   ],
   "source": [
    "X"
   ]
  },
  {
   "cell_type": "code",
   "execution_count": 11,
   "id": "f443cf40",
   "metadata": {},
   "outputs": [
    {
     "data": {
      "text/plain": [
       "array([5.62, 5.44, 7.74, 3.8 , 0.28, 4.  , 1.6 , 0.  , 3.56, 6.9 , 7.06,\n",
       "       3.52, 0.04, 4.12, 4.48, 2.22, 4.66, 3.66, 2.28, 3.5 , 4.32, 2.52,\n",
       "       7.94, 3.96, 3.32, 4.08, 7.54, 3.66, 4.3 , 3.16, 2.54, 6.94, 3.7 ,\n",
       "       0.26, 2.88, 6.84, 3.78, 3.96, 0.78, 3.98, 3.16, 7.98, 5.16, 7.94,\n",
       "       7.3 , 2.2 ])"
      ]
     },
     "execution_count": 11,
     "metadata": {},
     "output_type": "execute_result"
    }
   ],
   "source": [
    "Y"
   ]
  },
  {
   "cell_type": "code",
   "execution_count": 12,
   "id": "dd76e0e6",
   "metadata": {},
   "outputs": [
    {
     "data": {
      "text/plain": [
       "LinearRegression()"
      ]
     },
     "execution_count": 12,
     "metadata": {},
     "output_type": "execute_result"
    }
   ],
   "source": [
    "# Create the classifier model\n",
    "model = linear_model.LinearRegression()\n",
    "model.fit(X, Y)\n",
    "\n"
   ]
  },
  {
   "cell_type": "code",
   "execution_count": 15,
   "id": "ed54820d",
   "metadata": {},
   "outputs": [
    {
     "name": "stdout",
     "output_type": "stream",
     "text": [
      "5.765\n",
      "8.0\n"
     ]
    }
   ],
   "source": [
    "# Set new value to predict\n",
    "timeCharged = float(input().strip())\n",
    "result = model.predict([[timeCharged]])\n",
    "if result[0] > 8:\n",
    "    print (8.0)\n",
    "else:\n",
    "    print (round(result[0],2))"
   ]
  },
  {
   "cell_type": "code",
   "execution_count": null,
   "id": "c82f96e2",
   "metadata": {},
   "outputs": [],
   "source": []
  }
 ],
 "metadata": {
  "kernelspec": {
   "display_name": "Python 3",
   "language": "python",
   "name": "python3"
  },
  "language_info": {
   "codemirror_mode": {
    "name": "ipython",
    "version": 3
   },
   "file_extension": ".py",
   "mimetype": "text/x-python",
   "name": "python",
   "nbconvert_exporter": "python",
   "pygments_lexer": "ipython3",
   "version": "3.8.8"
  }
 },
 "nbformat": 4,
 "nbformat_minor": 5
}
